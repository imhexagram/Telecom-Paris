{
 "cells": [
  {
   "attachments": {},
   "cell_type": "markdown",
   "metadata": {},
   "source": [
    "# Text segmentation using Hidden Markov Models"
   ]
  },
  {
   "cell_type": "code",
   "execution_count": 1,
   "metadata": {},
   "outputs": [],
   "source": [
    "import os\n",
    "import glob\n",
    "import numpy as np"
   ]
  },
  {
   "cell_type": "code",
   "execution_count": 2,
   "metadata": {},
   "outputs": [],
   "source": [
    "ROOT = os.path.abspath('.')\n",
    "\n",
    "PERL_DIR = os.path.join(ROOT,'PerlScriptAndModel')\n",
    "RES_DIR = os.path.join(ROOT,'res')"
   ]
  },
  {
   "attachments": {},
   "cell_type": "markdown",
   "metadata": {},
   "source": [
    "### Coding/Decoding Mails"
   ]
  },
  {
   "cell_type": "code",
   "execution_count": 3,
   "metadata": {},
   "outputs": [],
   "source": [
    "DATA_DIR = os.path.join(ROOT,'dat\\\\dat')\n",
    "\n",
    "# Iterate through files and load the text \n",
    "def files_iter(data_dir, with_name=False):\n",
    "    files = glob.glob('{}\\\\*.dat'.format((data_dir)))\n",
    "    if with_name:\n",
    "        for f in files:\n",
    "            # Get the filename \n",
    "            name = f.split('\\\\')[-1].split('.')[0]\n",
    "            # Return filename and associated text\n",
    "            #text = open(\"{}/{}.txt\".format(data_dir, name),\"r\",encoding=\"gbk\").read()\n",
    "            text = np.loadtxt(\"{}\\\\{}.dat\".format(data_dir, name),dtype=int)\n",
    "            yield name, text\n",
    "    else:\n",
    "        for f in files :\n",
    "            yield np.loadtxt(f, dtype=int)"
   ]
  },
  {
   "cell_type": "code",
   "execution_count": 4,
   "metadata": {},
   "outputs": [],
   "source": [
    "# And we get a generator that will allow us to iterate through the mails\n",
    "mail_iter = files_iter(DATA_DIR, with_name=True)"
   ]
  },
  {
   "attachments": {},
   "cell_type": "markdown",
   "metadata": {},
   "source": [
    "### Distribution files"
   ]
  },
  {
   "cell_type": "code",
   "execution_count": 5,
   "metadata": {},
   "outputs": [],
   "source": [
    "PERL_DIR = os.path.join(ROOT,'PerlScriptAndModel\\\\PerlScriptAndModel')\n",
    "\n",
    "# Writing a function to get the probability data\n",
    "def get_emission_prob(perl_dir):\n",
    "    return np.loadtxt(\"{}\\\\P.text\".format(perl_dir))"
   ]
  },
  {
   "cell_type": "code",
   "execution_count": 6,
   "metadata": {},
   "outputs": [],
   "source": [
    "# Inputs to the Viterbi function\n",
    "trans = np.array([[0.999218078035812, 0.000781921964187974],[0,1]])\n",
    "emission_prob = get_emission_prob(PERL_DIR)\n",
    "states = [1, 2]\n",
    "start_prob = np.array([1, 0])"
   ]
  },
  {
   "attachments": {},
   "cell_type": "markdown",
   "metadata": {},
   "source": [
    "### To implement:"
   ]
  },
  {
   "cell_type": "code",
   "execution_count": 46,
   "metadata": {},
   "outputs": [],
   "source": [
    "# Viterbi function\n",
    "def viterbi(obs, states, start_prob, trans, emission_prob):\n",
    "    \"\"\"\n",
    "        Viterbi Algorithm Implementation\n",
    "\n",
    "        Keyword arguments:\n",
    "            - obs: sequence of observation\n",
    "            - states:list of states\n",
    "            - start_prob:vector of the initial probabilities\n",
    "            - trans: transition matrix\n",
    "            - emission_prob: emission probability matrix\n",
    "        Returns:\n",
    "            - seq: sequence of state\n",
    "    \"\"\"\n",
    "\n",
    "    # Avoid underflow: use the logarithm !\n",
    "    # Avoid 0 in logarithm: use a small constant !\n",
    "    small = np.finfo(np.float64).tiny\n",
    "    \n",
    "    start_prob = np.log(start_prob + small)\n",
    "    trans = np.log(trans + small)\n",
    "    emission_prob = np.log(emission_prob + small)\n",
    "    \n",
    "    T = len(obs) # Number of observations\n",
    "    N = len(states) # Number of model states\n",
    "    \n",
    "    # Initialisation\n",
    "    log_l = np.full((N,T),-np.inf)\n",
    "    bcktr = np.zeros((N,T),dtype=int)\n",
    "    \n",
    "    # Viterbi\n",
    "    \n",
    "    # Forward loop:\n",
    "    log_l[:,0]= start_prob + emission_prob[obs[0],:]\n",
    "    for t in range(1, T):\n",
    "        for j in range(N):\n",
    "            max_log_l = np.max(log_l[:,t-1] + trans[:,j] + emission_prob[obs[t],j])\n",
    "            bcktr[j,t] = np.argmax(log_l[:,t-1] + trans[:,j] + emission_prob[obs[t],j])\n",
    "            log_l[j,t] = max_log_l\n",
    "    # Backward loop\n",
    "    path = [np.argmax(log_l[:,-1])]\n",
    "    for i in range(T-1, 0, -1):\n",
    "        path.append(bcktr[path[-1],i])\n",
    "    path.reverse()\n",
    "    return [i + 1 for i in path]"
   ]
  },
  {
   "cell_type": "code",
   "execution_count": 47,
   "metadata": {},
   "outputs": [],
   "source": [
    "RES_DIR = os.path.join(ROOT,'Res')\n",
    "\n",
    "# Creating a directory to put the result of the viterbi function\n",
    "if not os.path.exists(RES_DIR):\n",
    "    os.mkdir(RES_DIR)\n",
    "    \n",
    "# Function that will write a viterbi path for a mail in a dedicated result file\n",
    "def create_viterbi_path_file(mail_name, viterbi_path):\n",
    "    with open('{}\\\\{}_path.txt'.format(RES_DIR, mail_name), 'w') as f: \n",
    "        f.write(''.join([str(c) for c in viterbi_path]))   "
   ]
  },
  {
   "cell_type": "code",
   "execution_count": 48,
   "metadata": {},
   "outputs": [],
   "source": [
    "# Using our generator, we get the mail names and data\n",
    "mail_iter = files_iter(DATA_DIR, with_name=True)\n",
    "for name_file, data in mail_iter:\n",
    "    # Find out the viterbi path using viterbi\n",
    "    viterbi_path = viterbi(data,states,start_prob,trans,emission_prob)\n",
    "    # Put it in the result file\n",
    "    create_viterbi_path_file(name_file, viterbi_path)"
   ]
  },
  {
   "attachments": {},
   "cell_type": "markdown",
   "metadata": {},
   "source": [
    "### Visualizing segmentation"
   ]
  },
  {
   "cell_type": "code",
   "execution_count": 153,
   "metadata": {},
   "outputs": [],
   "source": [
    "# Writing a function to go into the directory and execute the perl script \"segment.pl\" on the mail in the given path\n",
    "def exec_perl_script(mail, path):\n",
    "    res = !cd {PERL_DIR}; perl segment.pl {mail} {path}\n",
    "    return res\n",
    "\n",
    "# Writing a function getting the original mail, the result of viterbi, and applying the segmentation script\n",
    "# Then putting the result\n",
    "def segment_mail(mail_name, data_dir, output_dir):\n",
    "    # Get the full path of the mail\n",
    "    mail = os.path.join(ROOT,'dat/dat/{}'.format(mail_name))\n",
    "    # Get the full path of the result\n",
    "    path = os.path.join(ROOT,'dat/dat/{}'.format(mail_name))\n",
    "    # Execute the visualization script\n",
    "    formatted_mail = ...\n",
    "    # Get the results\n",
    "    formatted_mail_text = ...\n",
    "    # Go through the resulting text until the cutting line\n",
    "    ...\n",
    "    # If this was not the last line, return the text cut in to parts: header and body\n",
    "    ...\n",
    "    # If not, it's just a header\n",
    "    ..."
   ]
  },
  {
   "cell_type": "code",
   "execution_count": 154,
   "metadata": {},
   "outputs": [],
   "source": [
    "# Getting mails names\n",
    "...\n",
    "# Call the function and look at the result of segmentation\n",
    "..."
   ]
  }
 ],
 "metadata": {
  "kernelspec": {
   "display_name": "Python 3",
   "language": "python",
   "name": "python3"
  },
  "language_info": {
   "codemirror_mode": {
    "name": "ipython",
    "version": 3
   },
   "file_extension": ".py",
   "mimetype": "text/x-python",
   "name": "python",
   "nbconvert_exporter": "python",
   "pygments_lexer": "ipython3",
   "version": "3.10.6"
  },
  "vscode": {
   "interpreter": {
    "hash": "916dbcbb3f70747c44a77c7bcd40155683ae19c65e1c03b4aa3499c5328201f1"
   }
  }
 },
 "nbformat": 4,
 "nbformat_minor": 2
}
