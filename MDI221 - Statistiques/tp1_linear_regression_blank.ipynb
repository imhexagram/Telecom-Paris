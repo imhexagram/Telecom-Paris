{
  "cells": [
    {
      "cell_type": "markdown",
      "metadata": {
        "id": "FH6WL_esdgkB"
      },
      "source": [
        "# Introduction to Linear Regression\n",
        "\n",
        "*Adapted from Chapter 3 of [An Introduction to Statistical Learning](https://www.statlearning.com/)*\n",
        "\n",
        "Will be using [Pandas](https://pandas.pydata.org/docs/user_guide/10min.html) and [scikit-learn](http://scikit-learn.org/stable/).\n",
        "\n",
        "Instructions:\n",
        "\n",
        "\n",
        "*   There are 26 questions, all marked by the sign ⏩. Provide the answer after the question, either in a code cell or in a text cell (or both).\n",
        "*   Upload the notebook on the website of the course. Direct emails will be ignored. -- Deadline : one week after the day of the lab. \n",
        "* Your notebook is an individual work. Cheaters will receive the grade 0/20.\n",
        "\n"
      ]
    },
    {
      "cell_type": "code",
      "execution_count": null,
      "metadata": {
        "id": "x78kZUVbdgkI"
      },
      "outputs": [],
      "source": [
        "# imports\n",
        "import pandas as pd\n",
        "import matplotlib.pyplot as plt\n",
        "import seaborn as sns\n",
        "import numpy as np\n",
        "from scipy import stats\n",
        "\n",
        "# this allows plots to appear directly in the notebook\n",
        "%matplotlib inline"
      ]
    },
    {
      "cell_type": "markdown",
      "metadata": {
        "id": "Hy16HyYydgkL"
      },
      "source": [
        "## I. The Dataset\n",
        "\n",
        "Let's take a look at some data, ask some questions about that data, and then use linear regression to answer those questions!"
      ]
    },
    {
      "cell_type": "code",
      "execution_count": null,
      "metadata": {
        "id": "mmQwLdnkdgkM"
      },
      "outputs": [],
      "source": [
        "# read data into a DataFrame\n",
        "data = pd.read_csv('https://raw.githubusercontent.com/justmarkham/scikit-learn-videos/master/data/Advertising.csv', index_col=0)"
      ]
    },
    {
      "cell_type": "markdown",
      "metadata": {
        "id": "fPWczLu-kchG"
      },
      "source": [
        "⏩ **1) Use `data.head()` and `data.head(10)`: describe the dataset.**"
      ]
    },
    {
      "cell_type": "code",
      "execution_count": null,
      "metadata": {
        "colab": {
          "base_uri": "https://localhost:8080/"
        },
        "id": "SJ9ruhsbkWYc",
        "outputId": "8d0b92f2-64ce-41f9-c813-41078e06d640"
      },
      "outputs": [
        {
          "name": "stdout",
          "output_type": "stream",
          "text": [
            "      TV  Radio  Newspaper  Sales\n",
            "1  230.1   37.8       69.2   22.1\n",
            "2   44.5   39.3       45.1   10.4\n",
            "3   17.2   45.9       69.3    9.3\n",
            "4  151.5   41.3       58.5   18.5\n",
            "5  180.8   10.8       58.4   12.9\n",
            "       TV  Radio  Newspaper  Sales\n",
            "1   230.1   37.8       69.2   22.1\n",
            "2    44.5   39.3       45.1   10.4\n",
            "3    17.2   45.9       69.3    9.3\n",
            "4   151.5   41.3       58.5   18.5\n",
            "5   180.8   10.8       58.4   12.9\n",
            "6     8.7   48.9       75.0    7.2\n",
            "7    57.5   32.8       23.5   11.8\n",
            "8   120.2   19.6       11.6   13.2\n",
            "9     8.6    2.1        1.0    4.8\n",
            "10  199.8    2.6       21.2   10.6\n"
          ]
        }
      ],
      "source": [
        "print(data.head())  #lire les 5 premières lignes\n",
        "print(data.head(10))  #lire les 10 premières lignes"
      ]
    },
    {
      "cell_type": "markdown",
      "metadata": {
        "id": "iD3h_-qEdgkN"
      },
      "source": [
        "What are the features?\n",
        "- TV: advertising dollars spent on TV for a single product in a given market (in thousands of dollars)\n",
        "- Radio: advertising dollars spent on Radio\n",
        "- Newspaper: advertising dollars spent on Newspaper\n",
        "\n",
        "What is the response?\n",
        "- Sales: sales of a single product in a given market (in thousands of widgets)\n",
        "\n",
        "⏩ **2) Use data.shape. How many examples are contained in the dataset?**\n",
        "\n",
        "⏩ **3) Use data.describe() and provide your comments.**"
      ]
    },
    {
      "cell_type": "code",
      "execution_count": null,
      "metadata": {
        "colab": {
          "base_uri": "https://localhost:8080/"
        },
        "id": "_QI87W7pdgkO",
        "outputId": "e97811d4-6fd6-409a-e953-de98f9008d17"
      },
      "outputs": [
        {
          "name": "stdout",
          "output_type": "stream",
          "text": [
            "(200, 4)\n",
            "               TV       Radio   Newspaper       Sales\n",
            "count  200.000000  200.000000  200.000000  200.000000\n",
            "mean   147.042500   23.264000   30.554000   14.022500\n",
            "std     85.854236   14.846809   21.778621    5.217457\n",
            "min      0.700000    0.000000    0.300000    1.600000\n",
            "25%     74.375000    9.975000   12.750000   10.375000\n",
            "50%    149.750000   22.900000   25.750000   12.900000\n",
            "75%    218.825000   36.525000   45.100000   17.400000\n",
            "max    296.400000   49.600000  114.000000   27.000000\n"
          ]
        }
      ],
      "source": [
        "print(data.shape)  #200 exemples, 4 colonnes\n",
        "print(data.describe()) #return la taille; la moyenne; l'écart type; le minimum; les quartils; le maximum"
      ]
    },
    {
      "cell_type": "markdown",
      "metadata": {
        "id": "1rfwzraC7K2U"
      },
      "source": [
        "⏩ **4) Use data['Name_column'].hist() to draw the histogram of the sales. Set the parameters in order to plot 20 bins (= bars of the histogram. On the histogram, locate the 25% quantile given by the describe() method of the previous question.**"
      ]
    },
    {
      "cell_type": "code",
      "execution_count": null,
      "metadata": {
        "colab": {
          "base_uri": "https://localhost:8080/",
          "height": 282
        },
        "id": "DSdLnlfJ7Pnw",
        "outputId": "93156280-4146-46ff-c965-7cf7de4b99e0"
      },
      "outputs": [
        {
          "name": "stdout",
          "output_type": "stream",
          "text": [
            "AxesSubplot(0.125,0.125;0.775x0.755)\n"
          ]
        },
        {
          "data": {
            "image/png": "[encoded data removed]",
            "text/plain": [
              "<Figure size 432x288 with 1 Axes>"
            ]
          },
          "metadata": {
            "needs_background": "light"
          },
          "output_type": "display_data"
        }
      ],
      "source": [
        "print(data[\"Sales\"].hist(bins=20))"
      ]
    },
    {
      "cell_type": "markdown",
      "metadata": {
        "id": "-K7YVQQTAnX-"
      },
      "source": [
        "⏩ **5) Comment the result of data.boxplot(). What is the interest of this plot?**"
      ]
    },
    {
      "cell_type": "code",
      "execution_count": null,
      "metadata": {
        "colab": {
          "base_uri": "https://localhost:8080/",
          "height": 282
        },
        "id": "xPhTyJY__fUY",
        "outputId": "f9e856bf-5a75-411f-cae3-0957b82cb001"
      },
      "outputs": [
        {
          "name": "stdout",
          "output_type": "stream",
          "text": [
            "AxesSubplot(0.125,0.125;0.775x0.755)\n"
          ]
        },
        {
          "data": {
            "image/png": "[encoded data removed]",
            "text/plain": [
              "<Figure size 432x288 with 1 Axes>"
            ]
          },
          "metadata": {
            "needs_background": "light"
          },
          "output_type": "display_data"
        }
      ],
      "source": [
        "print(data.boxplot()) #il donne les 3 valeurs de quartils"
      ]
    },
    {
      "cell_type": "markdown",
      "metadata": {
        "id": "HNPAzgdQdgkP"
      },
      "source": [
        "⏩ **5) Use data.plot(kind='scatter', x=..., y=...) to vizualize the relationship between the features and the response. Comment about the relevance of the use of a linear model.**"
      ]
    },
    {
      "cell_type": "code",
      "execution_count": null,
      "metadata": {
        "colab": {
          "base_uri": "https://localhost:8080/",
          "height": 820
        },
        "id": "wEW30651dgkQ",
        "outputId": "faf1656f-faae-4966-9a09-bb3cf6a29cf6"
      },
      "outputs": [
        {
          "name": "stdout",
          "output_type": "stream",
          "text": [
            "AxesSubplot(0.125,0.125;0.775x0.755) AxesSubplot(0.125,0.125;0.775x0.755) AxesSubplot(0.125,0.125;0.775x0.755)\n"
          ]
        },
        {
          "data": {
            "image/png": "[encoded data removed]",
            "text/plain": [
              "<Figure size 432x288 with 1 Axes>"
            ]
          },
          "metadata": {
            "needs_background": "light"
          },
          "output_type": "display_data"
        },
        {
          "data": {
            "image/png": "[encoded data removed]",
            "text/plain": [
              "<Figure size 432x288 with 1 Axes>"
            ]
          },
          "metadata": {
            "needs_background": "light"
          },
          "output_type": "display_data"
        },
        {
          "data": {
            "image/png": "[encoded data removed]",
            "text/plain": [
              "<Figure size 432x288 with 1 Axes>"
            ]
          },
          "metadata": {
            "needs_background": "light"
          },
          "output_type": "display_data"
        }
      ],
      "source": [
        "print(data.plot(kind='scatter',x=0,y=3),data.plot(kind='scatter',x=1,y=3),data.plot(kind='scatter',x=2,y=3))  \n",
        "#on peut voir une model linéaire entre TV et Sales"
      ]
    },
    {
      "cell_type": "markdown",
      "metadata": {
        "id": "7AZLI-EE-QsD"
      },
      "source": [
        "⏩ **6) Use data.corr() in order to plot the correlation coefficients.**\n",
        "\n",
        "**Comment about the coefficient on the diagonal.**\n",
        "\n",
        "**What feature is the most correlated to the sales?**\n",
        "\n",
        "**Plot the correlation matrix as a heatmap using sns.heatmap(...,annot=True)** "
      ]
    },
    {
      "cell_type": "code",
      "execution_count": null,
      "metadata": {
        "colab": {
          "base_uri": "https://localhost:8080/",
          "height": 373
        },
        "id": "Qk7P9Hq0-XPk",
        "outputId": "f185ec01-53e3-49b3-b328-fe97df8d29b9"
      },
      "outputs": [
        {
          "name": "stdout",
          "output_type": "stream",
          "text": [
            "                 TV     Radio  Newspaper     Sales\n",
            "TV         1.000000  0.054809   0.056648  0.782224\n",
            "Radio      0.054809  1.000000   0.354104  0.576223\n",
            "Newspaper  0.056648  0.354104   1.000000  0.228299\n",
            "Sales      0.782224  0.576223   0.228299  1.000000\n",
            "AxesSubplot(0.125,0.125;0.62x0.755)\n"
          ]
        },
        {
          "data": {
            "image/png": "[encoded data removed]",
            "text/plain": [
              "<Figure size 432x288 with 2 Axes>"
            ]
          },
          "metadata": {
            "needs_background": "light"
          },
          "output_type": "display_data"
        }
      ],
      "source": [
        "print(data.corr())  #les paramètres sur la diagonale est 1 car il est comparé à lui-même, TV est plus corrélatif pour Sales\n",
        "print(sns.heatmap(data.corr(),annot=True))"
      ]
    },
    {
      "cell_type": "markdown",
      "metadata": {
        "id": "D77kYDB2dgkR"
      },
      "source": [
        "### Questions About the Advertising Data\n",
        "\n",
        "Let's pretend you work for the company that manufactures and markets this widget. The company might ask you the following: On the basis of this data, how should we spend our advertising money in the future?\n",
        "\n",
        "This general question might lead you to more specific questions:\n",
        "1. Is there a relationship between ads and sales?\n",
        "2. How strong is that relationship?\n",
        "3. Which ad types contribute to sales?\n",
        "4. What is the effect of each ad type of sales?\n",
        "5. Given ad spending in a particular market, can sales be predicted?\n",
        "\n",
        "We will explore these questions below!"
      ]
    },
    {
      "cell_type": "markdown",
      "metadata": {
        "id": "6gO3207-dgkT"
      },
      "source": [
        "## II. Simple Linear Regression\n",
        "\n",
        "Simple linear regression is an approach for predicting a **quantitative response** using a **single feature** (or \"predictor\" or \"input variable\"). It takes the following form:\n",
        "\n",
        "$y = \\beta_0 + \\beta_1x$\n",
        "\n",
        "What does each term represent?\n",
        "- $y$ is the response\n",
        "- $x$ is the feature\n",
        "- $\\beta_0$ is the intercept\n",
        "- $\\beta_1$ is the coefficient for x\n",
        "\n",
        "Together, $\\beta_0$ and $\\beta_1$ are called the **model coefficients**. To create your model, you must \"learn\" the values of these coefficients. And once we've learned these coefficients, we can use the model to predict Sales!\n",
        "\n",
        "Generally speaking, coefficients are estimated using the **least squares criterion**, which means we are find the line (mathematically) which minimizes the **sum of squared residuals** (or \"sum of squared errors\"):\n",
        "![image.png](data:image/png;base64,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)\n",
        "\n",
        "What elements are present in the diagram?\n",
        "- The black dots are the **observed values** of x and y.\n",
        "- The blue line is our **least squares line**.\n",
        "- The red lines are the **residuals**, which are the distances between the observed values and the least squares line.\n",
        "\n",
        "How do the model coefficients relate to the least squares line?\n",
        "- $\\beta_0$ is the **intercept** (the value of $y$ when $x$=0)\n",
        "- $\\beta_1$ is the **slope** (the change in $y$ divided by change in $x$)\n",
        "\n",
        "![image.png](data:image/png;base64,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)\n",
        "\n",
        "\n",
        "\n"
      ]
    },
    {
      "cell_type": "markdown",
      "metadata": {
        "id": "XaJYiEY_Kg9_"
      },
      "source": [
        "⏩ **7) We are going to do linear regression of the sales with respect to ONE variable amongst 'TV', 'Radio', 'Newspaper'. According to what you have seen from the dataset, which column would you like to keep? Write it down under the form:**\n",
        "\n",
        "`columns = ['Name of the column you want to keep']`"
      ]
    },
    {
      "cell_type": "code",
      "execution_count": null,
      "metadata": {
        "id": "0K_sYC3bKfGk"
      },
      "outputs": [],
      "source": [
        "columns=['TV']"
      ]
    },
    {
      "cell_type": "markdown",
      "metadata": {
        "id": "mvM49l2LMj2e"
      },
      "source": [
        "⏩ **8) Run the code below and try to understand it. What are the value of $\\beta_0$ and $\\beta_1$ of you model?**"
      ]
    },
    {
      "cell_type": "code",
      "execution_count": null,
      "metadata": {
        "colab": {
          "base_uri": "https://localhost:8080/"
        },
        "id": "TcIkF0aYHEHG",
        "outputId": "6c2ac0a0-34aa-4aa7-b43e-4c9f09610e99"
      },
      "outputs": [
        {
          "data": {
            "text/plain": [
              "(7.032593549127695, 0.04753664043301975)"
            ]
          },
          "execution_count": 12,
          "metadata": {},
          "output_type": "execute_result"
        }
      ],
      "source": [
        "from sklearn.linear_model import LinearRegression\n",
        "ls = LinearRegression()\n",
        "ls.fit(data[columns],data['Sales'])\n",
        "ls.intercept_,ls.coef_[0]  #b0=7.032593549127695, b1=0.04753664043301975"
      ]
    },
    {
      "cell_type": "markdown",
      "metadata": {
        "id": "y8qNPvcFTpCp"
      },
      "source": [
        "How do we interpret the TV coefficient ($\\beta_1$)?\n",
        "- A \"unit\" increase in TV ad spending is associated with a 0.047537 \"unit\" increase in Sales.\n",
        "- Or more clearly: An additional $1,000 spent on TV ads is associated with an increase in sales of 47.537 widgets.\n",
        "\n",
        "Note that if an increase in TV ad spending was associated with a decrease in sales, $\\beta_1$ would be negative.\n",
        "\n",
        "⏩ **9) Let's say that there was a new market where the spend in the advertising channel you considered was $50,000. What would we predict for the Sales in that market? Make the prediction \"by hand\" using sums and multiplication of numbers.**"
      ]
    },
    {
      "cell_type": "code",
      "execution_count": null,
      "metadata": {
        "colab": {
          "base_uri": "https://localhost:8080/"
        },
        "id": "CnElUKDpdgkY",
        "outputId": "fd1142db-1b42-4498-a9df-0f8efc08bdd8"
      },
      "outputs": [
        {
          "name": "stdout",
          "output_type": "stream",
          "text": [
            "2383.864615200115\n"
          ]
        }
      ],
      "source": [
        "# manually calculate the prediction\n",
        "x = 50000\n",
        "y = 7.032593549127695 + 0.04753664043301975*x\n",
        "print(y)"
      ]
    },
    {
      "cell_type": "markdown",
      "metadata": {
        "id": "gC4_CyBKdgkZ"
      },
      "source": [
        "⏩ **10) Use sklearn's predict method to recover the above result:**\n",
        "\n",
        "\n",
        "\n",
        "```\n",
        "New_data = pd.DataFrame({'Name of your column' : [the value]})\n",
        "ls.predict(New_data)[0]\n",
        "```\n",
        "\n",
        "\n"
      ]
    },
    {
      "cell_type": "code",
      "execution_count": null,
      "metadata": {
        "colab": {
          "base_uri": "https://localhost:8080/"
        },
        "id": "ECQ0jcgbtepR",
        "outputId": "320dd0a6-a562-4788-d4bf-7d2d3de11783"
      },
      "outputs": [
        {
          "data": {
            "text/plain": [
              "2383.864615200115"
            ]
          },
          "execution_count": 14,
          "metadata": {},
          "output_type": "execute_result"
        }
      ],
      "source": [
        "New_data = pd.DataFrame({'TV':[50000]})\n",
        "ls.predict(New_data)[0]"
      ]
    },
    {
      "cell_type": "markdown",
      "metadata": {
        "id": "eW_mRs7Rdgka"
      },
      "source": [
        "⏩ **11) Using `ls.predict`, generate the predictions $\\hat y_i$ for the whole dataset. On the same graph, plot the scattered points $(x_i,y_i)$ and the line passing through the points $(x_i,\\hat y_i)$.**"
      ]
    },
    {
      "cell_type": "code",
      "execution_count": null,
      "metadata": {
        "colab": {
          "base_uri": "https://localhost:8080/",
          "height": 265
        },
        "id": "5LvJx2c0tdp2",
        "outputId": "5491ab89-c235-419c-a9b0-7dc5683c191b"
      },
      "outputs": [
        {
          "data": {
            "image/png": "[encoded data removed]",
            "text/plain": [
              "<Figure size 432x288 with 1 Axes>"
            ]
          },
          "metadata": {
            "needs_background": "light"
          },
          "output_type": "display_data"
        }
      ],
      "source": [
        "Y_predict=ls.predict(data[columns])\n",
        "plt.scatter(data['TV'],data['Sales'])\n",
        "plt.plot(data['TV'],Y_predict,c='red')\n",
        "plt.show()"
      ]
    },
    {
      "cell_type": "markdown",
      "metadata": {
        "id": "R_qgyPcTnYQv"
      },
      "source": [
        "⏩ **12) Write your comments. How happy are you with the model?**"
      ]
    },
    {
      "cell_type": "markdown",
      "metadata": {
        "id": "BySGZuuXEQBq"
      },
      "source": [
        "Plus satisfaisant après avoir passé le début, mais au fur et à mesure que TV augmente, l'écart entre les Sales devient important.Dans l'ensemble, je pense que le modèle n'est pas satisfaisant."
      ]
    },
    {
      "cell_type": "markdown",
      "metadata": {
        "id": "uSWpG2FmoHoT"
      },
      "source": [
        "⏩ **13) Import the method `r2_score` from `sklearn.metrics`. Compute the $R^2$ and provide your comments.**\n",
        "\n"
      ]
    },
    {
      "cell_type": "code",
      "execution_count": null,
      "metadata": {
        "colab": {
          "base_uri": "https://localhost:8080/"
        },
        "id": "AcK3rL9LtaPJ",
        "outputId": "9d9634ce-8718-45ab-be3a-1f0eb864827b"
      },
      "outputs": [
        {
          "name": "stdout",
          "output_type": "stream",
          "text": [
            "0.611875050850071\n"
          ]
        }
      ],
      "source": [
        "from sklearn.metrics import r2_score \n",
        "print(r2_score(data['Sales'],Y_predict))\n",
        "#R2 0.6, l'ajustement linéaire n'est pas très bon"
      ]
    },
    {
      "cell_type": "markdown",
      "metadata": {
        "id": "TPTlSGExDLsI"
      },
      "source": [
        "## III. Multiple Linear Regression\n",
        "\n",
        "Simple linear regression can easily be extended to include multiple features. This is called **multiple linear regression**:\n",
        "\n",
        "$y = \\beta_0 + \\beta_1x_1 + ... + \\beta_nx_n$\n",
        "\n",
        "Each $x$ represents a different feature, and each feature has its own coefficient. In this case:\n",
        "\n",
        "$y = \\beta_0 + \\beta_1 \\times TV + \\beta_2 \\times Radio + \\beta_3 \\times Newspaper$\n",
        "\n",
        "⏩ **14) Include all the three columns in the model and re-train a least-square estimator using scikit-learn. Provide the values of the coefficients $\\beta_i$.**"
      ]
    },
    {
      "cell_type": "code",
      "execution_count": null,
      "metadata": {
        "colab": {
          "base_uri": "https://localhost:8080/"
        },
        "id": "cBkYmHAStYT_",
        "outputId": "0f02af10-14f6-44ce-a253-832c67e2bf64"
      },
      "outputs": [
        {
          "data": {
            "text/plain": [
              "(2.938889369459412,\n",
              " 0.0457646454553976,\n",
              " 0.18853001691820448,\n",
              " -0.0010374930424763285)"
            ]
          },
          "execution_count": 17,
          "metadata": {},
          "output_type": "execute_result"
        }
      ],
      "source": [
        "columns2=['TV','Radio','Newspaper']\n",
        "ls2 = LinearRegression()\n",
        "ls2.fit(data[columns2],data['Sales'])\n",
        "ls2.intercept_,ls2.coef_[0],ls2.coef_[1],ls2.coef_[2]\n",
        "#b1=0.0457646454553976, b2=0.18853001691820448, b3=-0.0010374930424763285"
      ]
    },
    {
      "cell_type": "markdown",
      "metadata": {
        "id": "VaIVKUt9DMD1"
      },
      "source": [
        "⏩ **15) For a given amount of Radio and Newspaper ad spending, how much is the increase of sells resulting from a $1000 increase in TV ad spending?**"
      ]
    },
    {
      "cell_type": "markdown",
      "metadata": {
        "id": "iaqUCyuVDMXi"
      },
      "source": [
        "0.046*1000=46"
      ]
    },
    {
      "cell_type": "markdown",
      "metadata": {
        "id": "1Qf4Mf4aDMvX"
      },
      "source": [
        "⏩ **16) Provide the value of $R^2$**"
      ]
    },
    {
      "cell_type": "code",
      "execution_count": null,
      "metadata": {
        "colab": {
          "base_uri": "https://localhost:8080/"
        },
        "id": "LPSscwgvtSbs",
        "outputId": "e46f2da9-af5d-47d6-be74-e7c1936a5897"
      },
      "outputs": [
        {
          "name": "stdout",
          "output_type": "stream",
          "text": [
            "0.8972106381789522\n"
          ]
        }
      ],
      "source": [
        "Y2_predict=ls2.predict(data[columns2])\n",
        "print(r2_score(data['Sales'],Y2_predict))\n",
        "#R2=0.8972106381789522"
      ]
    },
    {
      "cell_type": "markdown",
      "metadata": {
        "id": "pGHUb7egdgkc"
      },
      "source": [
        "### Linear Gaussian model and confidence intervals\n",
        "\n",
        "Our aim is now to compute confidence intervals on each of the coefficients $\\beta_i$ at the level 95%. A way to think of a confidence interval is the following: If the population from which this sample was drawn was **sampled 100 times**, approximately **95 of those confidence intervals** would contain the \"true\" coefficient. Keep in mind that we only have a **single sample of data**, and not the **entire population of data**. The \"true\" coefficient is either within this interval or it isn't, but there's no way to actually know. We estimate the coefficient with the data we do have, and we show uncertainty about that estimate by giving a range that the coefficient is **probably** within.\n",
        "\n",
        "Note that using 95% confidence intervals is just a convention. You can create 90% confidence intervals (which will be more narrow), 99% confidence intervals (which will be wider), or whatever intervals you like.\n",
        "\n",
        "To that end, we make the assumption that the model is homoscedastic, which means linear, Gaussian, and with a constant variance $\\sigma^2$:\n",
        "$$\n",
        "Y \\sim {\\mathcal N}(\\Phi \\beta,\\sigma^2 I_N)\n",
        "$$\n",
        "where $N$ is the number of sambles, $d=3$ is the number of regressors, $\\Phi$ is the $N\\times (d+1)$ design matrix containing the values of the regressors (TV, Radio, Newspaper), $\\beta=(\\beta_0,\\dots,\\beta_d)^T$ and $\\sigma^2$ are the unknown parameters, and $I_N$ is the $N\\times N$ identity matrix.\n",
        "\n",
        "A 95% confidence interval on $\\beta_k$ is given by:\n",
        "$$\n",
        "\\hat\\beta_k \\pm q \\sqrt{\\frac {\\hat\\sigma^2 s_k}N}\n",
        "$$\n",
        "where $s_k$ is the $k$th coefficient of the diagonal of $(\\Phi^T\\Phi)^{-1}$, $\\hat \\sigma^2$ is the estimated variance of the residuals, given by:\n",
        "$$\n",
        "\\hat \\sigma^2 = \\frac{\\|Y-\\hat Y\\|^2}{N-d-1}\n",
        "$$\n",
        "\n",
        "⏩ **17) What is $q$ in the above formula?**"
      ]
    },
    {
      "cell_type": "markdown",
      "metadata": {
        "id": "U-p6L2NLrVVQ"
      },
      "source": [
        "F(q)-F(-q)=0.95\n",
        "\n",
        "F(q)=0.975\n",
        "\n",
        "quantile q=F^-1(0.975)"
      ]
    },
    {
      "cell_type": "markdown",
      "metadata": {
        "id": "AeY2XiCkh2ju"
      },
      "source": [
        "⏩ **18) Draw the histogram of the residuals $e_i=\\hat y_i-y_i$, using 20 bins.**\n",
        "\n",
        "**Without calculating it numerically, what is APPROXIMATELY the mean and the standard deviation?**\n",
        "\n",
        "**Does it make sense to assume that the residuals are Gaussian?**"
      ]
    },
    {
      "cell_type": "code",
      "execution_count": null,
      "metadata": {
        "colab": {
          "base_uri": "https://localhost:8080/",
          "height": 282
        },
        "id": "A9RhCADJtEf5",
        "outputId": "a5c1c177-6151-4513-ea25-caf80a42afa7"
      },
      "outputs": [
        {
          "name": "stdout",
          "output_type": "stream",
          "text": [
            "AxesSubplot(0.125,0.125;0.775x0.755)\n"
          ]
        },
        {
          "data": {
            "image/png": "[encoded data removed]",
            "text/plain": [
              "<Figure size 432x288 with 1 Axes>"
            ]
          },
          "metadata": {
            "needs_background": "light"
          },
          "output_type": "display_data"
        }
      ],
      "source": [
        "ei=Y2_predict-data['Sales']\n",
        "print(ei.hist(bins=20))  #moyenne ei environ 0, l'écart type environ 1.5\n",
        "#Si l'on suppose que les résidus sont gaussiens, on peut alors supposer qu'ils sont aléatoires et qu'ils correspondent mieux à l'erreur aléatoire."
      ]
    },
    {
      "cell_type": "markdown",
      "metadata": {
        "id": "QvzAmr1DolTE"
      },
      "source": [
        "The following function computes confidence intervals. The syntax is as follows:\n",
        "\n",
        "\n",
        "```\n",
        "confidence_interval(X,y,a,k)\n",
        "```\n",
        "\n",
        "where `X` is a $N\\times d$ pandas dataframe corresponding to the design matrix, `y` is a pandas series corresponding to the labels, $a$ is the confidence level between 0 and 1 (typically set to 0.95), and $k\\in\\{0,1,\\dots,d\\}$ represents the variable you would like to consider.\n",
        "\n",
        "⏩ **19) Compute the confidence intervals for the 3 variables.**"
      ]
    },
    {
      "cell_type": "code",
      "execution_count": null,
      "metadata": {
        "id": "oyhF0l-AWOv0"
      },
      "outputs": [],
      "source": [
        "def confidence_interval(X,y,a,k):\n",
        "  assert(a<1)\n",
        "  (N,d) = X.shape\n",
        "  lsf = LinearRegression()\n",
        "  lsf.fit(X,y)\n",
        "  variance = np.linalg.norm(y.values-lsf.predict(X))**2/(N-d-1)\n",
        "  Phi = np.concatenate((np.reshape(np.ones(N),(N,1)),X.to_numpy()),axis=1)\n",
        "  s = np.diag(np.linalg.inv(np.dot(Phi.T,Phi)))[k]\n",
        "  q = stats.t(df=N-d-1).ppf(1-(1-a)/2)\n",
        "  return (lsf.coef_[k-1]-q*np.sqrt(variance*s/N),lsf.coef_[k-1]+q*np.sqrt(variance*s/N))"
      ]
    },
    {
      "cell_type": "code",
      "execution_count": null,
      "metadata": {
        "colab": {
          "base_uri": "https://localhost:8080/"
        },
        "id": "SbVj8sYTtHy8",
        "outputId": "550e114c-c5de-4693-a8b0-d4e353d9c4b3"
      },
      "outputs": [
        {
          "name": "stdout",
          "output_type": "stream",
          "text": [
            "(0.045570125082648495, 0.04595916582814671)\n",
            "(0.1873291679143402, 0.18973086592206875)\n",
            "(-0.001856213810388536, -0.000218772274564121)\n"
          ]
        }
      ],
      "source": [
        "print(confidence_interval(data[columns2],data['Sales'],0.95,1))\n",
        "print(confidence_interval(data[columns2],data['Sales'],0.95,2))\n",
        "print(confidence_interval(data[columns2],data['Sales'],0.95,3))"
      ]
    },
    {
      "cell_type": "markdown",
      "metadata": {
        "id": "Hqoekl2MvLI-"
      },
      "source": [
        "⏩ **20) Compute confidence intervals at 99%. Based on this result, if you wanted to eliminate one feature from the model, which one would it be? Explain.**"
      ]
    },
    {
      "cell_type": "code",
      "execution_count": null,
      "metadata": {
        "colab": {
          "base_uri": "https://localhost:8080/"
        },
        "id": "wyOlYICTtI4e",
        "outputId": "fbd0b424-18bd-472c-aa53-dda925140150"
      },
      "outputs": [
        {
          "name": "stdout",
          "output_type": "stream",
          "text": [
            "(0.045508083829348116, 0.04602120708144709)\n",
            "(0.18694616341886588, 0.19011387041754307)\n",
            "(-0.0021173405079495983, 4.235442299694138e-05)\n"
          ]
        }
      ],
      "source": [
        "print(confidence_interval(data[columns2],data['Sales'],0.99,1))\n",
        "print(confidence_interval(data[columns2],data['Sales'],0.99,2))\n",
        "print(confidence_interval(data[columns2],data['Sales'],0.99,3))\n",
        "#je vais supprimer Newspapers parce que son intervalle de confiance est très proche de 0，indique qu'il est très probable qu'il ait peu d'effet sur le résultat."
      ]
    },
    {
      "cell_type": "markdown",
      "metadata": {
        "id": "OCugmQla13Sr"
      },
      "source": [
        "## IV. Model selection by cross-validation\n",
        "\n",
        "Consider we seek to choose between two models:\n",
        "\n",
        "\n",
        "*   The first one includes all the columns `TV`, `Radio`, `Newspaper`\n",
        "*   The second one includes only `TV` and `Radio`\n",
        "\n",
        "Which one is the best?\n",
        "\n",
        "In order to answer, we need to specify: \"best\" according to which criterion? Let us first try the $R^2$ score.\n",
        "\n",
        "⏩ **21) Compare the $R^2$ scores of the two models. Explain the reason why one is larger than the other. Can we trust $R^2$ values to select our model?**"
      ]
    },
    {
      "cell_type": "code",
      "execution_count": null,
      "metadata": {
        "colab": {
          "base_uri": "https://localhost:8080/"
        },
        "id": "NRQ-OrOztLTG",
        "outputId": "d954d234-ffc1-4cc3-cf8c-acd508675885"
      },
      "outputs": [
        {
          "name": "stdout",
          "output_type": "stream",
          "text": [
            "0.8971942610828957\n"
          ]
        }
      ],
      "source": [
        "columns3=['TV','Radio']\n",
        "ls3 = LinearRegression()\n",
        "ls3.fit(data[columns3],data['Sales'])\n",
        "Y3_predict=ls3.predict(data[columns3])\n",
        "print(r2_score(data['Sales'],Y3_predict))  #0.8972106381789522 pour le premier modèle\n",
        "#les modèles comportant plus de paramètres ont toujours des valeurs R2 plus élevées.\n",
        "#avec R2=0.897 on peut le faire confience"
      ]
    },
    {
      "cell_type": "markdown",
      "metadata": {
        "id": "Usp570i18dD-"
      },
      "source": [
        "**R-squared will always increase as you add more features to the model**, even if they are unrelated to the response. Thus, selecting the model with the highest R-squared is not a reliable approach for choosing the best linear model.\n",
        "\n",
        "There is alternative to R-squared called **adjusted R-squared** that penalizes model complexity (to control for overfitting), but it generally [under-penalizes complexity](http://scott.fortmann-roe.com/docs/MeasuringError.html).\n",
        "\n",
        "So is there a better approach to feature selection? **Cross-validation.** It provides a more reliable estimate of out-of-sample error, and thus is a better way to choose which of your models will best **generalize** to out-of-sample data. There is extensive functionality for cross-validation in scikit-learn, including automated methods for searching different sets of parameters and different models. Importantly, cross-validation can be applied to any model, whereas the methods described above only apply to linear models."
      ]
    },
    {
      "cell_type": "markdown",
      "metadata": {
        "id": "8-_yYPT75hSB"
      },
      "source": [
        "⏩ **22) Use sklearn `train_test_split` method to spli the data into a train and a test set (see the doc [here](https://scikit-learn.org/stable/modules/generated/sklearn.model_selection.train_test_split.html)). Then, fit two linear regressors on the train set only: one using all features, the other using only `TV` and`Radio`.**"
      ]
    },
    {
      "cell_type": "code",
      "execution_count": null,
      "metadata": {
        "colab": {
          "base_uri": "https://localhost:8080/"
        },
        "id": "qJBcnWgrtNIG",
        "outputId": "1b18fc01-b2db-466a-882d-33eca6852aad"
      },
      "outputs": [
        {
          "data": {
            "text/plain": [
              "LinearRegression()"
            ]
          },
          "execution_count": 64,
          "metadata": {},
          "output_type": "execute_result"
        }
      ],
      "source": [
        "from sklearn.model_selection import train_test_split\n",
        "data_train,data_test=train_test_split(data)\n",
        "\n",
        "ls4 = LinearRegression()\n",
        "ls4.fit(data_train[columns2],data_train['Sales'])\n",
        "\n",
        "ls5 = LinearRegression()\n",
        "ls5.fit(data_train[columns3],data_train['Sales'])"
      ]
    },
    {
      "cell_type": "markdown",
      "metadata": {
        "id": "OBfNIcKN6lFL"
      },
      "source": [
        "⏩ **23) Use sklearn `mean_squared_error` (doc [here](https://scikit-learn.org/stable/modules/generated/sklearn.metrics.mean_squared_error.html)) to compare the mean squared error of both models, on the test set.**"
      ]
    },
    {
      "cell_type": "code",
      "execution_count": null,
      "metadata": {
        "colab": {
          "base_uri": "https://localhost:8080/"
        },
        "id": "rSHGNW5btO_2",
        "outputId": "1d4e4852-a3f8-4c8e-eaa9-690140e20356"
      },
      "outputs": [
        {
          "name": "stdout",
          "output_type": "stream",
          "text": [
            "4.702000763187062\n",
            "4.4323596183847425\n"
          ]
        }
      ],
      "source": [
        "from sklearn.metrics import mean_squared_error\n",
        "Y4_predict=ls4.predict(data_test[columns2])\n",
        "print(mean_squared_error(data_test['Sales'],Y4_predict))\n",
        "\n",
        "Y5_predict=ls5.predict(data_test[columns3])\n",
        "print(mean_squared_error(data_test['Sales'],Y5_predict))\n",
        "#2.376202230619629  2.3785142180812953\n",
        "#4.12745265496487  3.7978151776467413\n",
        "#4.702000763187062  4.4323596183847425"
      ]
    },
    {
      "cell_type": "markdown",
      "metadata": {
        "id": "lbIal44v9fdj"
      },
      "source": [
        "⏩ **24) Observe that the mean square error vary, when you re-run the cells corresponding to Questions 21 and 22. How do you explain this?**\n",
        "\n",
        "⏩ **25) Between the two models, which one would you recommend? Justify.**\n",
        "\n",
        "⏩ **26) [Bonus] To choose between two models, your method seems to depend on the ratio of the test set versus the train set. Can you see a more rigorous method allowing to cross-validate the model?**"
      ]
    },
    {
      "cell_type": "markdown",
      "metadata": {
        "id": "pxgtZ6ZYLLYn"
      },
      "source": [
        "24) Comme chaque exécution produit un ensemble d'entraînement et de test différent, le modèle et l'erreur quadratique moyenne varient.\n",
        "\n",
        "25) Le second modèle, car il est plus performant en validation croisée.\n",
        "\n",
        "26) K-fold cross-validation, l'avantage est que la validation croisée du même ensemble de données plusieurs fois réduit l'erreur causée par le caractère aléatoire des ensembles de formation et de validation."
      ]
    },
    {
      "cell_type": "markdown",
      "metadata": {
        "id": "mLzk-2iCdgkm"
      },
      "source": [
        "## Resources\n",
        "\n",
        "- To go much more in-depth on linear regression, read Chapter 3 of [An Introduction to Statistical Learning](https://www.statlearning.com/), from which this lesson was adapted. Alternatively, watch the [related videos](http://www.dataschool.io/15-hours-of-expert-machine-learning-videos/) or read [quick reference guide](http://www.dataschool.io/applying-and-interpreting-linear-regression/) to the key points in that chapter."
      ]
    }
  ],
  "metadata": {
    "colab": {
      "collapsed_sections": [
        "mLzk-2iCdgkm"
      ],
      "provenance": []
    },
    "kernelspec": {
      "display_name": "Python 3.10.6 64-bit",
      "language": "python",
      "name": "python3"
    },
    "language_info": {
      "name": "python",
      "version": "3.10.6"
    },
    "vscode": {
      "interpreter": {
        "hash": "25f4bcde86e971f1265c4a9e97783bbb5021468f645d5c501cfa42df16070929"
      }
    }
  },
  "nbformat": 4,
  "nbformat_minor": 0
}
