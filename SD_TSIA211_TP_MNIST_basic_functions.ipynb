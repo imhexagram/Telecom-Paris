{
  "cells": [
    {
      "cell_type": "code",
      "execution_count": 179,
      "id": "149938de",
      "metadata": {
        "id": "149938de"
      },
      "outputs": [],
      "source": [
        "import numpy as np\n",
        "import tensorflow as tf\n",
        "from tensorflow import keras\n",
        "from tensorflow.keras import layers\n",
        "import matplotlib.pyplot as plt"
      ]
    },
    {
      "cell_type": "code",
      "execution_count": 180,
      "id": "773c1396",
      "metadata": {
        "colab": {
          "base_uri": "https://localhost:8080/",
          "height": 300
        },
        "id": "773c1396",
        "outputId": "68d0070f-e19d-4833-ece8-2cd58f7dbbf1"
      },
      "outputs": [
        {
          "output_type": "stream",
          "name": "stdout",
          "text": [
            "5\n"
          ]
        },
        {
          "output_type": "execute_result",
          "data": {
            "text/plain": [
              "<matplotlib.image.AxesImage at 0x7fc82076e520>"
            ]
          },
          "metadata": {},
          "execution_count": 180
        },
        {
          "output_type": "display_data",
          "data": {
            "text/plain": [
              "<Figure size 432x288 with 1 Axes>"
            ],
            "image/png": "[encoded data removed]"
          },
          "metadata": {
            "needs_background": "light"
          }
        }
      ],
      "source": [
        "train_data, test_data = tf.keras.datasets.mnist.load_data(path=\"mnist.npz\")\n",
        "x_train = train_data[0].reshape(-1,784).astype(float) / 255\n",
        "y_train = train_data[1]\n",
        "x_test = test_data[0].reshape(-1,784).astype(float) / 255\n",
        "y_test = test_data[1]\n",
        "print(y_train[0])\n",
        "plt.imshow(train_data[0][0], cmap='gray')"
      ]
    },
    {
      "cell_type": "markdown",
      "source": [
        "4.1) there are 26506 variables in this model"
      ],
      "metadata": {
        "id": "cT3KeNdjVOzr"
      },
      "id": "cT3KeNdjVOzr"
    },
    {
      "cell_type": "code",
      "execution_count": 181,
      "id": "4b521b78",
      "metadata": {
        "colab": {
          "base_uri": "https://localhost:8080/"
        },
        "id": "4b521b78",
        "outputId": "1041af1e-dec9-4202-dd87-162bbcc0dd57"
      },
      "outputs": [
        {
          "output_type": "stream",
          "name": "stdout",
          "text": [
            "Model: \"mnist_model\"\n",
            "_________________________________________________________________\n",
            " Layer (type)                Output Shape              Param #   \n",
            "=================================================================\n",
            " digits (InputLayer)         [(None, 784)]             0         \n",
            "                                                                 \n",
            " dense_1 (Dense)             (None, 32)                25120     \n",
            "                                                                 \n",
            " dense_2 (Dense)             (None, 32)                1056      \n",
            "                                                                 \n",
            " predictions (Dense)         (None, 10)                330       \n",
            "                                                                 \n",
            "=================================================================\n",
            "Total params: 26,506\n",
            "Trainable params: 26,506\n",
            "Non-trainable params: 0\n",
            "_________________________________________________________________\n"
          ]
        }
      ],
      "source": [
        "# source: https://keras.io/guides/training_with_built_in_methods/\n",
        "\n",
        "inputs = keras.Input(shape=(784,), name=\"digits\")\n",
        "x = layers.Dense(32, activation=\"relu\", name=\"dense_1\")(inputs)\n",
        "x = layers.Dense(32, activation=\"relu\", name=\"dense_2\")(x)\n",
        "outputs = layers.Dense(10, activation=None, name=\"predictions\")(x)\n",
        "model = keras.Model(inputs=inputs, outputs=outputs, name=\"mnist_model\")\n",
        "loss = keras.losses.SparseCategoricalCrossentropy(from_logits=True)\n",
        "#def loss(true, pred):\n",
        "#    val = 0.\n",
        "#    for i in range(len(true)):\n",
        "#        val -= np.log(pred[i, true[i]])\n",
        "#    return val / len(true)\n",
        "model.summary()"
      ]
    },
    {
      "cell_type": "code",
      "execution_count": 145,
      "id": "b18b6bdb",
      "metadata": {
        "colab": {
          "base_uri": "https://localhost:8080/"
        },
        "id": "b18b6bdb",
        "outputId": "62d47dba-5947-4773-df13-c25efc4ebdb4"
      },
      "outputs": [
        {
          "output_type": "execute_result",
          "data": {
            "text/plain": [
              "array([5, 5, 6, 3, 3, 7, 3, 6, 3, 5, 6, 8, 8, 9, 3, 2, 6, 3, 0, 8, 3, 5,\n",
              "       3, 3, 4, 3, 5, 6, 0, 5, 2, 3, 5, 5, 3, 3, 3, 3, 0, 3, 3, 3, 7, 3,\n",
              "       3, 9, 3, 3, 5, 6, 5, 5, 5, 3, 5, 3, 2, 5, 6, 3, 5, 5, 3, 0, 2, 4,\n",
              "       0, 0, 5, 6, 3, 5, 3, 8, 8, 3, 3, 0, 6, 5, 6, 5, 3, 5, 6, 3, 0, 5,\n",
              "       0, 5, 7, 5, 4, 3, 3, 2, 0, 3, 2, 0])"
            ]
          },
          "metadata": {},
          "execution_count": 145
        }
      ],
      "source": [
        "# untrained model\n",
        "logits = model(x_train)\n",
        "np.argmax(logits, 1)[0:100]"
      ]
    },
    {
      "cell_type": "code",
      "execution_count": 146,
      "id": "35d74f67",
      "metadata": {
        "colab": {
          "base_uri": "https://localhost:8080/"
        },
        "id": "35d74f67",
        "outputId": "b6e71e4a-ca0c-489f-b9aa-f177e6b4d5d1"
      },
      "outputs": [
        {
          "output_type": "execute_result",
          "data": {
            "text/plain": [
              "array([5, 0, 4, 1, 9, 2, 1, 3, 1, 4, 3, 5, 3, 6, 1, 7, 2, 8, 6, 9, 4, 0,\n",
              "       9, 1, 1, 2, 4, 3, 2, 7, 3, 8, 6, 9, 0, 5, 6, 0, 7, 6, 1, 8, 7, 9,\n",
              "       3, 9, 8, 5, 9, 3, 3, 0, 7, 4, 9, 8, 0, 9, 4, 1, 4, 4, 6, 0, 4, 5,\n",
              "       6, 1, 0, 0, 1, 7, 1, 6, 3, 0, 2, 1, 1, 7, 9, 0, 2, 6, 7, 8, 3, 9,\n",
              "       0, 4, 6, 7, 4, 6, 8, 0, 7, 8, 3, 1], dtype=uint8)"
            ]
          },
          "metadata": {},
          "execution_count": 146
        }
      ],
      "source": [
        "# what we would like to get\n",
        "y_train[0:100]"
      ]
    },
    {
      "cell_type": "code",
      "execution_count": 182,
      "id": "4c0073e2",
      "metadata": {
        "id": "4c0073e2"
      },
      "outputs": [],
      "source": [
        "'''\n",
        "## Computing a stochastic gradient\n",
        "\n",
        "# Source: https://keras.io/guides/writing_a_training_loop_from_scratch/\n",
        "\n",
        "# Example of gradient computation using automatic differentiation\n",
        "\n",
        "x_train_batch = x_train[:8]\n",
        "y_train_batch = y_train[:8]\n",
        "with tf.GradientTape() as tape:\n",
        "        # Run the forward pass of the layer.\n",
        "        # The operations that the layer applies\n",
        "        # to its inputs are going to be recorded\n",
        "        # on the GradientTape.\n",
        "        logits = model(x_train_batch)  # Logits for this minibatch\n",
        "\n",
        "        # Compute the loss value for this minibatch.\n",
        "        loss_value = loss(y_train_batch, logits)\n",
        "\n",
        "# Use the gradient tape to automatically retrieve\n",
        "# the gradients of the trainable variables with respect to the loss.\n",
        "grad = tape.gradient(loss_value, model.trainable_weights)\n",
        "## Updating weights\n",
        "\n",
        "def update_weights(model, update):\n",
        "    new_weights = model.trainable_weights.copy()\n",
        "    for i in range(len(new_weights)):\n",
        "        new_weights[i] = new_weights[i] + update[i]\n",
        "    model.set_weights(new_weights)\n",
        "\n",
        "\n",
        "## Evaluate model\n",
        "samples_for_evaluation = np.random.randint(0, 10000, 1000)\n",
        "print(samples_for_evaluation.shape)\n",
        "logits = model(x_train[samples_for_evaluation])\n",
        "loss(y_train[samples_for_evaluation], logits).numpy()\n",
        "'''  \n",
        "def update_weights(model, update):\n",
        "    new_weights = model.trainable_weights.copy()\n",
        "    for i in range(len(new_weights)):\n",
        "        new_weights[i] = new_weights[i] + update[i]\n",
        "    model.set_weights(new_weights)\n",
        "\n",
        "def init_model():\n",
        "    inputs = keras.Input(shape=(784,), name=\"digits\")\n",
        "    x = layers.Dense(32, activation=\"relu\", name=\"dense_1\")(inputs)\n",
        "    x = layers.Dense(32, activation=\"relu\", name=\"dense_2\")(x)\n",
        "    outputs = layers.Dense(10, activation=\"softmax\", name=\"predictions\")(x)\n",
        "    model = keras.Model(inputs=inputs, outputs=outputs, name=\"mnist_model\")\n",
        "    return model"
      ]
    },
    {
      "cell_type": "markdown",
      "source": [
        "Q5.1 / Q5.2\n",
        "\n",
        "Choice of γk ensures a faster decrease : γk=γ0/(k+1)^α, with γ0=1 and α=0.5\n",
        "\n",
        "batch_size=1 for stochastic gradient descent， >1 for mini-batch gradient descent， n for batch gradient descent\n"
      ],
      "metadata": {
        "id": "EdSGOVDStOKw"
      },
      "id": "EdSGOVDStOKw"
    },
    {
      "cell_type": "code",
      "execution_count": 183,
      "id": "b3845cef",
      "metadata": {
        "id": "b3845cef"
      },
      "outputs": [],
      "source": [
        "# Stochastic gradient algorithm\n",
        "import random\n",
        "def SGD(x_train, y_train, model, batch_size, gamma0=1, alpha=0.5):\n",
        "  gamma=gamma0\n",
        "  steps, losses=[],[]\n",
        "  nb_steps=x_train.shape[0]//batch_size\n",
        "  allk=np.arange(0,x_train.shape[0])\n",
        "  np.random.shuffle(allk)\n",
        "  k_split=np.array_split(allk, nb_steps) #Creating random sequences\n",
        "  step=0\n",
        "  for k in k_split:\n",
        "    if(step%2000==0):\n",
        "      steps.append(step)\n",
        "      loss_value=loss(y_train, model(x_train)).numpy()\n",
        "      losses.append(loss_value) #Store loss value every 2000 drops\n",
        "      #print(step,loss_value) \n",
        "    x_train_batch = x_train[k]\n",
        "    y_train_batch = y_train[k]\n",
        "    with tf.GradientTape() as tape:\n",
        "      logits = model(x_train_batch) #Logits for this minibatch\n",
        "      loss_value = loss(y_train_batch, logits) #Compute the loss value for this minibatch\n",
        "    grad = tape.gradient(loss_value, model.trainable_weights) #Use the gradient tape to automatically retrieve the gradients of the trainable variables with respect to the loss.\n",
        "    update = [tf.math.scalar_mul(-gamma/batch_size, t) for t in grad] #-gamma*grad\n",
        "    update_weights(model,update)\n",
        "    gamma = gamma0/((step+1)**alpha)\n",
        "    step=step+1\n",
        "  return (steps,losses)"
      ]
    },
    {
      "cell_type": "code",
      "execution_count": 184,
      "id": "24d39aac",
      "metadata": {
        "id": "24d39aac",
        "colab": {
          "base_uri": "https://localhost:8080/",
          "height": 295
        },
        "outputId": "4aa4897f-a4a6-4847-aace-0a5cbd07416d"
      },
      "outputs": [
        {
          "output_type": "display_data",
          "data": {
            "text/plain": [
              "<Figure size 432x288 with 1 Axes>"
            ],
            "image/png": "[encoded data removed]"
          },
          "metadata": {
            "needs_background": "light"
          }
        }
      ],
      "source": [
        "model=init_model()\n",
        "steps, losses = SGD(x_train, y_train, model, batch_size=1)\n",
        "plt.plot(steps, losses)\n",
        "plt.title(\"loss with step\")\n",
        "plt.xlabel(\"Step\")\n",
        "plt.ylabel(\"Loss function value\")\n",
        "plt.show()"
      ]
    },
    {
      "cell_type": "markdown",
      "source": [
        "Q6.1\n",
        "\n",
        "update SGD function with : xk+1=xk-γk*grad/batch_size"
      ],
      "metadata": {
        "id": "QRPNaHkFyefQ"
      },
      "id": "QRPNaHkFyefQ"
    },
    {
      "cell_type": "code",
      "source": [
        "def SGD2(x_train, y_train, model, batch_size, n_epochs, gamma0=1, alpha=0.5):\n",
        "  e_steps,e_losses=[],[]\n",
        "  for epoch in range(1, n_epochs+1):\n",
        "    steps,losses = SGD(x_train, y_train, model, batch_size, gamma0, alpha)\n",
        "    e_steps.append(epoch)\n",
        "    e_losses.append(losses[-1])\n",
        "    print(epoch,\"/\",n_epochs,\" : \",losses[-1])\n",
        "  return (e_steps, e_losses)"
      ],
      "metadata": {
        "id": "xd49S4y7yiIV"
      },
      "id": "xd49S4y7yiIV",
      "execution_count": 158,
      "outputs": []
    },
    {
      "cell_type": "code",
      "source": [
        "model=init_model()\n",
        "e_steps, e_losses = SGD2(x_train, y_train, model, batch_size=32, n_epochs=10)\n",
        "plt.plot(e_steps,e_losses)\n",
        "plt.title(\"loss with step\")\n",
        "plt.xlabel(\"Step\")\n",
        "plt.ylabel(\"Loss function value\")\n",
        "plt.show()"
      ],
      "metadata": {
        "colab": {
          "base_uri": "https://localhost:8080/",
          "height": 469
        },
        "id": "zWrqV_LozASN",
        "outputId": "332fbb45-6241-4962-e95a-1ff21dce8fba"
      },
      "id": "zWrqV_LozASN",
      "execution_count": 164,
      "outputs": [
        {
          "output_type": "stream",
          "name": "stdout",
          "text": [
            "1 / 10  :  2.3413384\n",
            "2 / 10  :  1.5793843\n",
            "3 / 10  :  0.85531956\n",
            "4 / 10  :  0.6143455\n",
            "5 / 10  :  0.5014231\n",
            "6 / 10  :  0.4374191\n",
            "7 / 10  :  0.39776236\n",
            "8 / 10  :  0.37056386\n",
            "9 / 10  :  0.35122114\n",
            "10 / 10  :  0.3346962\n"
          ]
        },
        {
          "output_type": "display_data",
          "data": {
            "text/plain": [
              "<Figure size 432x288 with 1 Axes>"
            ],
            "image/png": "[encoded data removed]"
          },
          "metadata": {
            "needs_background": "light"
          }
        }
      ]
    },
    {
      "cell_type": "markdown",
      "source": [
        "Q6.2\n",
        "SGD solves problems such as GD being too computationally intensive and getting stuck in saddle points."
      ],
      "metadata": {
        "id": "ka7zm2F1C6Aw"
      },
      "id": "ka7zm2F1C6Aw"
    },
    {
      "cell_type": "markdown",
      "source": [
        "Q7.1 Evaluation of the model"
      ],
      "metadata": {
        "id": "nCyStvSXFh-7"
      },
      "id": "nCyStvSXFh-7"
    },
    {
      "cell_type": "code",
      "source": [
        "acc = keras.metrics.SparseCategoricalAccuracy()\n",
        "acc.update_state(y_test, model(x_test))\n",
        "print(acc.result())"
      ],
      "metadata": {
        "colab": {
          "base_uri": "https://localhost:8080/"
        },
        "id": "Ckywn-XOFjSW",
        "outputId": "43c0593f-ad92-4485-e4ec-85a5556c695a"
      },
      "id": "Ckywn-XOFjSW",
      "execution_count": 168,
      "outputs": [
        {
          "output_type": "stream",
          "name": "stdout",
          "text": [
            "tf.Tensor(0.9159, shape=(), dtype=float32)\n"
          ]
        }
      ]
    },
    {
      "cell_type": "code",
      "source": [
        "logits = model(x_train)\n",
        "print(\"model output: \\n\", np.argmax(logits,1)[0:100])\n",
        "print(\"y: \\n\", y_train[0:100])"
      ],
      "metadata": {
        "colab": {
          "base_uri": "https://localhost:8080/"
        },
        "id": "chhhPh-uH4xB",
        "outputId": "e908b453-874f-462b-b2d5-c48a40bc5617"
      },
      "id": "chhhPh-uH4xB",
      "execution_count": 176,
      "outputs": [
        {
          "output_type": "stream",
          "name": "stdout",
          "text": [
            "model output: \n",
            " [5 0 4 1 9 2 1 3 1 4 3 2 3 6 1 7 2 8 6 9 4 0 9 1 3 2 4 3 7 7 3 8 6 7 0 5 6\n",
            " 0 7 6 1 8 7 9 3 9 8 5 5 3 3 0 7 4 9 8 0 9 4 1 4 4 6 0 4 5 6 1 0 0 1 7 1 6\n",
            " 3 0 2 1 1 7 0 0 2 6 7 8 3 9 0 4 6 7 4 6 8 0 7 8 3 1]\n",
            "y: \n",
            " [5 0 4 1 9 2 1 3 1 4 3 5 3 6 1 7 2 8 6 9 4 0 9 1 1 2 4 3 2 7 3 8 6 9 0 5 6\n",
            " 0 7 6 1 8 7 9 3 9 8 5 9 3 3 0 7 4 9 8 0 9 4 1 4 4 6 0 4 5 6 1 0 0 1 7 1 6\n",
            " 3 0 2 1 1 7 9 0 2 6 7 8 3 9 0 4 6 7 4 6 8 0 7 8 3 1]\n"
          ]
        }
      ]
    }
  ],
  "metadata": {
    "kernelspec": {
      "display_name": "Python 3",
      "language": "python",
      "name": "python3"
    },
    "language_info": {
      "codemirror_mode": {
        "name": "ipython",
        "version": 3
      },
      "file_extension": ".py",
      "mimetype": "text/x-python",
      "name": "python",
      "nbconvert_exporter": "python",
      "pygments_lexer": "ipython3",
      "version": "3.8.8"
    },
    "colab": {
      "provenance": [],
      "toc_visible": true
    }
  },
  "nbformat": 4,
  "nbformat_minor": 5
}